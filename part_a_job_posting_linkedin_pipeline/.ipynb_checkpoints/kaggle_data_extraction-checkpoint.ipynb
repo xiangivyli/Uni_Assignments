{
 "cells": [
  {
   "cell_type": "markdown",
   "metadata": {},
   "source": [
    "# Set the environment"
   ]
  },
  {
   "cell_type": "code",
   "execution_count": 1,
   "metadata": {},
   "outputs": [
    {
     "name": "stdout",
     "output_type": "stream",
     "text": [
      "Collecting opendatasets\n",
      "  Obtaining dependency information for opendatasets from https://files.pythonhosted.org/packages/00/e7/12300c2f886b846375c78a4f32c0ae1cd20bdcf305b5ac45b8d7eceda3ec/opendatasets-0.1.22-py3-none-any.whl.metadata\n",
      "  Downloading opendatasets-0.1.22-py3-none-any.whl.metadata (9.2 kB)\n",
      "Requirement already satisfied: tqdm in /home/xiangivyli/anaconda3/lib/python3.11/site-packages (from opendatasets) (4.65.0)\n",
      "Collecting kaggle (from opendatasets)\n",
      "  Downloading kaggle-1.6.6.tar.gz (84 kB)\n",
      "\u001b[2K     \u001b[90m━━━━━━━━━━━━━━━━━━━━━━━━━━━━━━━━━━━━━━━━\u001b[0m \u001b[32m84.6/84.6 kB\u001b[0m \u001b[31m5.7 MB/s\u001b[0m eta \u001b[36m0:00:00\u001b[0m\n",
      "\u001b[?25h  Preparing metadata (setup.py) ... \u001b[?25ldone\n",
      "\u001b[?25hRequirement already satisfied: click in /home/xiangivyli/anaconda3/lib/python3.11/site-packages (from opendatasets) (8.0.4)\n",
      "Requirement already satisfied: six>=1.10 in /home/xiangivyli/anaconda3/lib/python3.11/site-packages (from kaggle->opendatasets) (1.16.0)\n",
      "Requirement already satisfied: certifi in /home/xiangivyli/anaconda3/lib/python3.11/site-packages (from kaggle->opendatasets) (2023.7.22)\n",
      "Requirement already satisfied: python-dateutil in /home/xiangivyli/anaconda3/lib/python3.11/site-packages (from kaggle->opendatasets) (2.8.2)\n",
      "Requirement already satisfied: requests in /home/xiangivyli/anaconda3/lib/python3.11/site-packages (from kaggle->opendatasets) (2.31.0)\n",
      "Requirement already satisfied: python-slugify in /home/xiangivyli/anaconda3/lib/python3.11/site-packages (from kaggle->opendatasets) (5.0.2)\n",
      "Requirement already satisfied: urllib3 in /home/xiangivyli/anaconda3/lib/python3.11/site-packages (from kaggle->opendatasets) (1.26.16)\n",
      "Requirement already satisfied: bleach in /home/xiangivyli/anaconda3/lib/python3.11/site-packages (from kaggle->opendatasets) (4.1.0)\n",
      "Requirement already satisfied: packaging in /home/xiangivyli/anaconda3/lib/python3.11/site-packages (from bleach->kaggle->opendatasets) (23.1)\n",
      "Requirement already satisfied: webencodings in /home/xiangivyli/anaconda3/lib/python3.11/site-packages (from bleach->kaggle->opendatasets) (0.5.1)\n",
      "Requirement already satisfied: text-unidecode>=1.3 in /home/xiangivyli/anaconda3/lib/python3.11/site-packages (from python-slugify->kaggle->opendatasets) (1.3)\n",
      "Requirement already satisfied: charset-normalizer<4,>=2 in /home/xiangivyli/anaconda3/lib/python3.11/site-packages (from requests->kaggle->opendatasets) (2.0.4)\n",
      "Requirement already satisfied: idna<4,>=2.5 in /home/xiangivyli/anaconda3/lib/python3.11/site-packages (from requests->kaggle->opendatasets) (3.4)\n",
      "Downloading opendatasets-0.1.22-py3-none-any.whl (15 kB)\n",
      "Building wheels for collected packages: kaggle\n",
      "  Building wheel for kaggle (setup.py) ... \u001b[?25ldone\n",
      "\u001b[?25h  Created wheel for kaggle: filename=kaggle-1.6.6-py3-none-any.whl size=111945 sha256=37f59fb3942938b11d4bbf127125aab38c24f3855946c04efe61a7858e5047c9\n",
      "  Stored in directory: /home/xiangivyli/.cache/pip/wheels/97/06/54/3d44857e6aa73d66d0174f29389e7ea70c007105797e6ec05c\n",
      "Successfully built kaggle\n",
      "Installing collected packages: kaggle, opendatasets\n",
      "Successfully installed kaggle-1.6.6 opendatasets-0.1.22\n",
      "Note: you may need to restart the kernel to use updated packages.\n"
     ]
    }
   ],
   "source": [
    "%pip install opendatasets"
   ]
  },
  {
   "cell_type": "code",
   "execution_count": 12,
   "metadata": {},
   "outputs": [
    {
     "name": "stdout",
     "output_type": "stream",
     "text": [
      "Requirement already satisfied: pyspark in /home/xiangivyli/spark/spark-3.3.2-bin-hadoop3/python (3.3.2)\n",
      "Collecting pyspark\n",
      "  Downloading pyspark-3.5.1.tar.gz (317.0 MB)\n",
      "\u001b[2K     \u001b[90m━━━━━━━━━━━━━━━━━━━━━━━━━━━━━━━━━━━━━━━\u001b[0m \u001b[32m317.0/317.0 MB\u001b[0m \u001b[31m2.7 MB/s\u001b[0m eta \u001b[36m0:00:00\u001b[0m00:01\u001b[0m00:01\u001b[0m\n",
      "\u001b[?25h  Preparing metadata (setup.py) ... \u001b[?25ldone\n",
      "\u001b[?25hRequirement already satisfied: pandas in /home/xiangivyli/anaconda3/lib/python3.11/site-packages (2.0.3)\n",
      "Collecting pandas\n",
      "  Obtaining dependency information for pandas from https://files.pythonhosted.org/packages/d4/47/1ccf9f62d2674d3ca3e95452c5f9dd114234d1535dec77c96528bf6a31fc/pandas-2.2.1-cp311-cp311-manylinux_2_17_x86_64.manylinux2014_x86_64.whl.metadata\n",
      "  Downloading pandas-2.2.1-cp311-cp311-manylinux_2_17_x86_64.manylinux2014_x86_64.whl.metadata (19 kB)\n",
      "Collecting py4j==0.10.9.7 (from pyspark)\n",
      "  Obtaining dependency information for py4j==0.10.9.7 from https://files.pythonhosted.org/packages/10/30/a58b32568f1623aaad7db22aa9eafc4c6c194b429ff35bdc55ca2726da47/py4j-0.10.9.7-py2.py3-none-any.whl.metadata\n",
      "  Downloading py4j-0.10.9.7-py2.py3-none-any.whl.metadata (1.5 kB)\n",
      "Requirement already satisfied: numpy<2,>=1.23.2 in /home/xiangivyli/anaconda3/lib/python3.11/site-packages (from pandas) (1.24.3)\n",
      "Requirement already satisfied: python-dateutil>=2.8.2 in /home/xiangivyli/anaconda3/lib/python3.11/site-packages (from pandas) (2.8.2)\n",
      "Requirement already satisfied: pytz>=2020.1 in /home/xiangivyli/anaconda3/lib/python3.11/site-packages (from pandas) (2023.3.post1)\n",
      "Requirement already satisfied: tzdata>=2022.7 in /home/xiangivyli/anaconda3/lib/python3.11/site-packages (from pandas) (2023.3)\n",
      "Requirement already satisfied: six>=1.5 in /home/xiangivyli/anaconda3/lib/python3.11/site-packages (from python-dateutil>=2.8.2->pandas) (1.16.0)\n",
      "Downloading py4j-0.10.9.7-py2.py3-none-any.whl (200 kB)\n",
      "\u001b[2K   \u001b[90m━━━━━━━━━━━━━━━━━━━━━━━━━━━━━━━━━━━━━━━━\u001b[0m \u001b[32m200.5/200.5 kB\u001b[0m \u001b[31m30.4 MB/s\u001b[0m eta \u001b[36m0:00:00\u001b[0m\n",
      "\u001b[?25hDownloading pandas-2.2.1-cp311-cp311-manylinux_2_17_x86_64.manylinux2014_x86_64.whl (13.0 MB)\n",
      "\u001b[2K   \u001b[90m━━━━━━━━━━━━━━━━━━━━━━━━━━━━━━━━━━━━━━━━\u001b[0m \u001b[32m13.0/13.0 MB\u001b[0m \u001b[31m77.6 MB/s\u001b[0m eta \u001b[36m0:00:00\u001b[0m:00:01\u001b[0m00:01\u001b[0m\n",
      "\u001b[?25hBuilding wheels for collected packages: pyspark\n",
      "  Building wheel for pyspark (setup.py) ... \u001b[?25ldone\n",
      "\u001b[?25h  Created wheel for pyspark: filename=pyspark-3.5.1-py2.py3-none-any.whl size=317488496 sha256=586a162acaef3999c63c269c7e455adf04cdad8df241bbb275877cfeac377bbb\n",
      "  Stored in directory: /home/xiangivyli/.cache/pip/wheels/95/13/41/f7f135ee114175605fb4f0a89e7389f3742aa6c1e1a5bcb657\n",
      "Successfully built pyspark\n",
      "Installing collected packages: py4j, pyspark, pandas\n",
      "  Attempting uninstall: py4j\n",
      "    Found existing installation: py4j 0.10.9.5\n",
      "    Uninstalling py4j-0.10.9.5:\n",
      "      Successfully uninstalled py4j-0.10.9.5\n",
      "  Attempting uninstall: pyspark\n",
      "    Found existing installation: pyspark 3.3.2\n",
      "    Can't uninstall 'pyspark'. No files were found to uninstall.\n",
      "  Attempting uninstall: pandas\n",
      "    Found existing installation: pandas 2.0.3\n",
      "    Uninstalling pandas-2.0.3:\n",
      "      Successfully uninstalled pandas-2.0.3\n",
      "Successfully installed pandas-2.2.1 py4j-0.10.9.7 pyspark-3.5.1\n",
      "Note: you may need to restart the kernel to use updated packages.\n"
     ]
    }
   ],
   "source": [
    "%pip install pyspark --upgrade pyspark pandas"
   ]
  },
  {
   "cell_type": "markdown",
   "metadata": {},
   "source": [
    "## 1. Libraries"
   ]
  },
  {
   "cell_type": "code",
   "execution_count": 1,
   "metadata": {},
   "outputs": [
    {
     "name": "stderr",
     "output_type": "stream",
     "text": [
      "/home/xiangivyli/anaconda3/lib/python3.11/site-packages/pandas/core/arrays/masked.py:60: UserWarning: Pandas requires version '1.3.6' or newer of 'bottleneck' (version '1.3.5' currently installed).\n",
      "  from pandas.core import (\n"
     ]
    }
   ],
   "source": [
    "import os\n",
    "import opendatasets as od\n",
    "import pandas as pd\n",
    "import pyspark\n",
    "from pyspark.sql import SparkSession\n",
    "from pyspark.sql.types import StructType, StructField, IntegerType, FloatType, StringType, TimestampType"
   ]
  },
  {
   "cell_type": "code",
   "execution_count": 2,
   "metadata": {},
   "outputs": [
    {
     "name": "stderr",
     "output_type": "stream",
     "text": [
      "Setting default log level to \"WARN\".\n",
      "To adjust logging level use sc.setLogLevel(newLevel). For SparkR, use setLogLevel(newLevel).\n"
     ]
    },
    {
     "name": "stdout",
     "output_type": "stream",
     "text": [
      "24/03/24 21:30:04 WARN NativeCodeLoader: Unable to load native-hadoop library for your platform... using builtin-java classes where applicable\n"
     ]
    }
   ],
   "source": [
    "spark = SparkSession.builder \\\n",
    "    .master(\"local[*]\") \\\n",
    "    .appName(\"test\") \\\n",
    "    .config(\"spark.sql.debug.maxToStringFields\", 100) \\\n",
    "    .config(\"spark.sql.parquet.int96RebaseModeInWrite\", \"LEGACY\") \\\n",
    "    .getOrCreate()"
   ]
  },
  {
   "cell_type": "markdown",
   "metadata": {},
   "source": [
    "## 2. Download Dataset"
   ]
  },
  {
   "cell_type": "code",
   "execution_count": 4,
   "metadata": {},
   "outputs": [],
   "source": [
    "dataset_url = \"https://www.kaggle.com/datasets/arshkon/linkedin-job-postings?resource=download\"\n",
    "download_path = \"./data\""
   ]
  },
  {
   "cell_type": "code",
   "execution_count": 5,
   "metadata": {},
   "outputs": [
    {
     "name": "stdout",
     "output_type": "stream",
     "text": [
      "Please provide your Kaggle credentials to download this dataset. Learn more: http://bit.ly/kaggle-creds\n",
      "Your Kaggle username:Your Kaggle username:Your Kaggle Key:Downloading linkedin-job-postings.zip to ./data/linkedin-job-postings\n"
     ]
    },
    {
     "name": "stderr",
     "output_type": "stream",
     "text": [
      "100%|██████████| 44.9M/44.9M [00:01<00:00, 30.8MB/s]\n"
     ]
    },
    {
     "name": "stdout",
     "output_type": "stream",
     "text": [
      "\n"
     ]
    }
   ],
   "source": [
    "#enter username & key downloaded from https://kaggle.com/me/account create new api token\n",
    "od.download(dataset_url, data_dir=download_path)"
   ]
  },
  {
   "cell_type": "code",
   "execution_count": 2,
   "metadata": {},
   "outputs": [
    {
     "name": "stdout",
     "output_type": "stream",
     "text": [
      "\u001b[01;34m.\u001b[00m\r\n",
      "├── README.md\r\n",
      "├── \u001b[01;34mdata\u001b[00m\r\n",
      "│   └── \u001b[01;34mlinkedin-job-postings\u001b[00m\r\n",
      "│       ├── \u001b[01;34mcompany_details\u001b[00m\r\n",
      "│       │   ├── companies.csv\r\n",
      "│       │   ├── company_industries.csv\r\n",
      "│       │   ├── company_specialities.csv\r\n",
      "│       │   └── employee_counts.csv\r\n",
      "│       ├── \u001b[01;34mjob_details\u001b[00m\r\n",
      "│       │   ├── benefits.csv\r\n",
      "│       │   ├── job_industries.csv\r\n",
      "│       │   ├── job_skills.csv\r\n",
      "│       │   └── salaries.csv\r\n",
      "│       ├── job_postings.csv\r\n",
      "│       └── \u001b[01;34mmaps\u001b[00m\r\n",
      "│           ├── industries.csv\r\n",
      "│           └── skills.csv\r\n",
      "└── kaggle_data_extraction.ipynb\r\n",
      "\r\n",
      "5 directories, 13 files\r\n"
     ]
    }
   ],
   "source": [
    "!tree "
   ]
  },
  {
   "cell_type": "code",
   "execution_count": 7,
   "metadata": {},
   "outputs": [
    {
     "name": "stdout",
     "output_type": "stream",
     "text": [
      "./\n",
      "    kaggle_data_extraction.ipynb\n",
      "    README.md\n",
      "    data/\n",
      "        linkedin-job-postings/\n",
      "            job_postings.csv\n",
      "            maps/\n",
      "                skills.csv\n",
      "                industries.csv\n",
      "            company_details/\n",
      "                employee_counts.csv\n",
      "                companies.csv\n",
      "                company_specialities.csv\n",
      "                company_industries.csv\n",
      "            job_details/\n",
      "                job_industries.csv\n",
      "                job_skills.csv\n",
      "                benefits.csv\n",
      "                salaries.csv\n"
     ]
    }
   ],
   "source": [
    "def list_files(startpath):\n",
    "    for root, dirs, files in os.walk(startpath):\n",
    "        level = root.replace(startpath, '').count(os.sep)\n",
    "        indent = ' ' * 4 * (level)\n",
    "        print(f\"{indent}{os.path.basename(root)}/\")\n",
    "        subindent = ' ' * 4 * (level + 1)\n",
    "        for f in files:\n",
    "            print(f\"{subindent}{f}\")\n",
    "\n",
    "list_files('.') "
   ]
  },
  {
   "cell_type": "code",
   "execution_count": 8,
   "metadata": {},
   "outputs": [
    {
     "name": "stdout",
     "output_type": "stream",
     "text": [
      "Directory: data/\n",
      "\n",
      "Directory: data/linkedin-job-postings\n",
      "    job_postings.csv - 134845243 bytes\n",
      "\n",
      "Directory: data/linkedin-job-postings/maps\n",
      "    skills.csv - 679 bytes\n",
      "    industries.csv - 6292 bytes\n",
      "\n",
      "Directory: data/linkedin-job-postings/company_details\n",
      "    employee_counts.csv - 416749 bytes\n",
      "    companies.csv - 10953429 bytes\n",
      "    company_specialities.csv - 2036857 bytes\n",
      "    company_industries.csv - 390677 bytes\n",
      "\n",
      "Directory: data/linkedin-job-postings/job_details\n",
      "    job_industries.csv - 666212 bytes\n",
      "    job_skills.csv - 925814 bytes\n",
      "    benefits.csv - 840280 bytes\n",
      "    salaries.csv - 731493 bytes\n",
      "\n"
     ]
    }
   ],
   "source": [
    "def get_size(start_path = '.'):\n",
    "    total_size = 0\n",
    "    for dirpath, dirnames, filenames in os.walk(start_path):\n",
    "        for f in filenames:\n",
    "            if f.endswith('.csv'):\n",
    "                fp = os.path.join(dirpath, f)\n",
    "                total_size += os.path.getsize(fp)\n",
    "    return total_size\n",
    "\n",
    "def print_file_sizes(start_path = '.'):\n",
    "    for dirpath, dirnames, filenames in os.walk(start_path):\n",
    "        print(f\"Directory: {dirpath}\")\n",
    "        for f in filenames:\n",
    "            if f.endswith('.csv'):\n",
    "                fp = os.path.join(dirpath, f)\n",
    "                size = os.path.getsize(fp)\n",
    "                print(f\"    {f} - {size} bytes\")\n",
    "        print()  # Print a newline for readability\n",
    "\n",
    "# Set the start path to your data directory\n",
    "data_directory = 'data/'  # Adjust this to the path where your data resides\n",
    "print_file_sizes(data_directory)"
   ]
  },
  {
   "cell_type": "code",
   "execution_count": 9,
   "metadata": {},
   "outputs": [
    {
     "name": "stdout",
     "output_type": "stream",
     "text": [
      "data/linkedin-job-postings/job_postings.csv: 33246 rows\n",
      "data/linkedin-job-postings/maps/skills.csv: 35 rows\n",
      "data/linkedin-job-postings/maps/industries.csv: 229 rows\n",
      "data/linkedin-job-postings/company_details/employee_counts.csv: 14275 rows\n",
      "data/linkedin-job-postings/company_details/companies.csv: 11361 rows\n",
      "data/linkedin-job-postings/company_details/company_specialities.csv: 78405 rows\n",
      "data/linkedin-job-postings/company_details/company_industries.csv: 12601 rows\n",
      "data/linkedin-job-postings/job_details/job_industries.csv: 44091 rows\n",
      "data/linkedin-job-postings/job_details/job_skills.csv: 56591 rows\n",
      "data/linkedin-job-postings/job_details/benefits.csv: 29325 rows\n",
      "data/linkedin-job-postings/job_details/salaries.csv: 13352 rows\n"
     ]
    }
   ],
   "source": [
    "def print_csv_row_counts(start_path='.'):\n",
    "    for dirpath, _, filenames in os.walk(start_path):\n",
    "        for f in filenames:\n",
    "            if f.endswith('.csv'):\n",
    "                file_path = os.path.join(dirpath, f)\n",
    "                try:\n",
    "                    df = pd.read_csv(file_path)\n",
    "                    print(f\"{file_path}: {len(df.index)} rows\")\n",
    "                except pd.errors.EmptyDataError:\n",
    "                    print(f\"{file_path}: Empty\")\n",
    "                except Exception as e:\n",
    "                    print(f\"{file_path}: Failed to read ({e})\")\n",
    "\n",
    "# Set the start path \n",
    "data_directory = 'data/'  \n",
    "print_csv_row_counts(data_directory)"
   ]
  },
  {
   "cell_type": "markdown",
   "metadata": {},
   "source": [
    "## 3. Read data and check schema"
   ]
  },
  {
   "cell_type": "markdown",
   "metadata": {},
   "source": [
    "### job_postings.csv fact table"
   ]
  },
  {
   "cell_type": "code",
   "execution_count": 3,
   "metadata": {},
   "outputs": [],
   "source": [
    "# Define the Spark schema\n",
    "job_postings_schema = StructType([\n",
    "    StructField(\"job_id\", IntegerType(), True),\n",
    "    StructField(\"company_id\", IntegerType(), True),\n",
    "    StructField(\"title\", StringType(), True),\n",
    "    StructField(\"description\", StringType(), True),\n",
    "    StructField(\"max_salary\", FloatType(), True),\n",
    "    StructField(\"med_salary\", FloatType(), True),\n",
    "    StructField(\"min_salary\", FloatType(), True),\n",
    "    StructField(\"pay_period\", StringType(), True),\n",
    "    StructField(\"formatted_work_type\", StringType(), True),\n",
    "    StructField(\"location\", StringType(), True),\n",
    "    StructField(\"applies\", IntegerType(), True),\n",
    "    StructField(\"original_listed_time\", TimestampType(), True),\n",
    "    StructField(\"remote_allowed\", StringType(), True),\n",
    "    StructField(\"views\", IntegerType(), True),\n",
    "    StructField(\"job_posting_url\", StringType(), True),\n",
    "    StructField(\"application_url\", StringType(), True),\n",
    "    StructField(\"application_type\", StringType(), True),\n",
    "    StructField(\"expiry\", TimestampType(), True),\n",
    "    StructField(\"closed_time\", TimestampType(), True),\n",
    "    StructField(\"formatted_experience_level\", StringType(), True),\n",
    "    StructField(\"skills_desc\", StringType(), True),\n",
    "    StructField(\"listed_time\", TimestampType(), True),\n",
    "    StructField(\"posting_domain\", StringType(), True),\n",
    "    StructField(\"sponsored\", IntegerType(), True),\n",
    "    StructField(\"work_type\", StringType(), True),\n",
    "    StructField(\"currency\", StringType(), True),\n",
    "    StructField(\"compensation_type\", StringType(), True),\n",
    "    StructField(\"scraped\", IntegerType(), True)\n",
    "])"
   ]
  },
  {
   "cell_type": "code",
   "execution_count": 4,
   "metadata": {},
   "outputs": [
    {
     "name": "stderr",
     "output_type": "stream",
     "text": [
      "\r",
      "[Stage 0:>                                                          (0 + 1) / 1]\r",
      "\r",
      "                                                                                \r"
     ]
    },
    {
     "name": "stdout",
     "output_type": "stream",
     "text": [
      "+------+----------+--------------------+--------------------+----------+----------+----------+----------+-------------------+--------+-------+--------------------+--------------+-----+---------------+---------------+----------------+------+-----------+--------------------------+-----------+-----------+--------------+---------+---------+--------+-----------------+-------+\n",
      "|job_id|company_id|               title|         description|max_salary|med_salary|min_salary|pay_period|formatted_work_type|location|applies|original_listed_time|remote_allowed|views|job_posting_url|application_url|application_type|expiry|closed_time|formatted_experience_level|skills_desc|listed_time|posting_domain|sponsored|work_type|currency|compensation_type|scraped|\n",
      "+------+----------+--------------------+--------------------+----------+----------+----------+----------+-------------------+--------+-------+--------------------+--------------+-----+---------------+---------------+----------------+------+-----------+--------------------------+-----------+-----------+--------------+---------+---------+--------+-----------------+-------+\n",
      "|  null|    553718|Hearing Care Prov...|            Overview|      null|      null|      null|      null|               null|    null|   null|                null|          null| null|           null|           null|            null|  null|       null|                      null|       null|       null|          null|     null|     null|    null|             null|   null|\n",
      "|  null|      null|              health| and innovation s...|      null|      null|      null|      null|               null|    null|   null|                null|          null| null|           null|           null|            null|  null|       null|                      null|       null|       null|          null|     null|     null|    null|             null|   null|\n",
      "|  null|      null|                null|                null|      null|      null|      null|      null|               null|    null|   null|                null|          null| null|           null|           null|            null|  null|       null|                      null|       null|       null|          null|     null|     null|    null|             null|   null|\n",
      "|  null|      null|                null|                null|      null|      null|      null|      null|               null|    null|   null|                null|          null| null|           null|           null|            null|  null|       null|                      null|       null|       null|          null|     null|     null|    null|             null|   null|\n",
      "|  null|      null|                null|                null|      null|      null|      null|      null|               null|    null|   null|                null|          null| null|           null|           null|            null|  null|       null|                      null|       null|       null|          null|     null|     null|    null|             null|   null|\n",
      "|  null|      null| educate and trai...| conducting repai...|      null|      null|      null|      null|               null|    null|   null|                null|          null| null|           null|           null|            null|  null|       null|                      null|       null|       null|          null|     null|     null|    null|             null|   null|\n",
      "|  null|      null|                null|                null|      null|      null|      null|      null|               null|    null|   null|                null|          null| null|           null|           null|            null|  null|       null|                      null|       null|       null|          null|     null|     null|    null|             null|   null|\n",
      "|  null|      null|            courtesy| and discretion. ...|      null|      null|      null|      null|               null|    null|   null|                null|          null| null|           null|           null|            null|  null|       null|                      null|       null|       null|          null|     null|     null|    null|             null|   null|\n",
      "|  null|      null|           and more!|                null|      null|      null|      null|      null|               null|    null|   null|                null|          null| null|           null|           null|            null|  null|       null|                      null|       null|       null|          null|     null|     null|    null|             null|   null|\n",
      "|  null|      null|                null|                null|      null|      null|      null|      null|               null|    null|   null|                null|          null| null|           null|           null|            null|  null|       null|                      null|       null|       null|          null|     null|     null|    null|             null|   null|\n",
      "+------+----------+--------------------+--------------------+----------+----------+----------+----------+-------------------+--------+-------+--------------------+--------------+-----+---------------+---------------+----------------+------+-----------+--------------------------+-----------+-----------+--------------+---------+---------+--------+-----------------+-------+\n",
      "only showing top 10 rows\n",
      "\n"
     ]
    }
   ],
   "source": [
    "df_posting = spark.read \\\n",
    "    .option(\"header\", \"true\") \\\n",
    "    .schema(job_postings_schema) \\\n",
    "    .csv(\"./data/linkedin-job-postings/job_postings.csv\") \n",
    "\n",
    "\n",
    "df_posting.show(10)"
   ]
  },
  {
   "cell_type": "code",
   "execution_count": 5,
   "metadata": {},
   "outputs": [
    {
     "name": "stdout",
     "output_type": "stream",
     "text": [
      "root\n",
      " |-- job_id: integer (nullable = true)\n",
      " |-- company_id: integer (nullable = true)\n",
      " |-- title: string (nullable = true)\n",
      " |-- description: string (nullable = true)\n",
      " |-- max_salary: float (nullable = true)\n",
      " |-- med_salary: float (nullable = true)\n",
      " |-- min_salary: float (nullable = true)\n",
      " |-- pay_period: string (nullable = true)\n",
      " |-- formatted_work_type: string (nullable = true)\n",
      " |-- location: string (nullable = true)\n",
      " |-- applies: integer (nullable = true)\n",
      " |-- original_listed_time: timestamp (nullable = true)\n",
      " |-- remote_allowed: string (nullable = true)\n",
      " |-- views: integer (nullable = true)\n",
      " |-- job_posting_url: string (nullable = true)\n",
      " |-- application_url: string (nullable = true)\n",
      " |-- application_type: string (nullable = true)\n",
      " |-- expiry: timestamp (nullable = true)\n",
      " |-- closed_time: timestamp (nullable = true)\n",
      " |-- formatted_experience_level: string (nullable = true)\n",
      " |-- skills_desc: string (nullable = true)\n",
      " |-- listed_time: timestamp (nullable = true)\n",
      " |-- posting_domain: string (nullable = true)\n",
      " |-- sponsored: integer (nullable = true)\n",
      " |-- work_type: string (nullable = true)\n",
      " |-- currency: string (nullable = true)\n",
      " |-- compensation_type: string (nullable = true)\n",
      " |-- scraped: integer (nullable = true)\n",
      "\n"
     ]
    }
   ],
   "source": [
    "df_posting.printSchema()"
   ]
  },
  {
   "cell_type": "code",
   "execution_count": 6,
   "metadata": {},
   "outputs": [],
   "source": [
    "df_posting = df_posting.repartition(10)"
   ]
  },
  {
   "cell_type": "code",
   "execution_count": 8,
   "metadata": {},
   "outputs": [
    {
     "name": "stderr",
     "output_type": "stream",
     "text": [
      "                                                                                \r"
     ]
    }
   ],
   "source": [
    "df_posting.write.parquet(\"./data/pq-linkedin-job-postings/pq_job_postings/\", mode=\"overwrite\")"
   ]
  },
  {
   "cell_type": "markdown",
   "metadata": {},
   "source": [
    "### company_details/companies.csv"
   ]
  },
  {
   "cell_type": "code",
   "execution_count": 10,
   "metadata": {},
   "outputs": [
    {
     "name": "stdout",
     "output_type": "stream",
     "text": [
      "+----------+--------------------+--------------------+------------+--------------------+--------------------+--------------------+--------------------+--------------------+--------------------+\n",
      "|company_id|                name|         description|company_size|               state|             country|                city|            zip_code|             address|                 url|\n",
      "+----------+--------------------+--------------------+------------+--------------------+--------------------+--------------------+--------------------+--------------------+--------------------+\n",
      "|      1009|                 IBM|At IBM, we do mor...|        null|                null|                null|                null|                null|                null|                null|\n",
      "|      null|                   7|                  NY|        null|    Armonk, New York|               10504|International Bus...|https://www.linke...|                null|                null|\n",
      "|      1016|       GE HealthCare|Every day million...|        null|                null|                null|                null|                null|                null|                null|\n",
      "|      null|000 employees glo...| the company oper...|        null| helping drive pr...|           providers| health systems a...|                null|                null|                null|\n",
      "|      null|        transparency| integrity and di...|           7|                   0|                  US|             Chicago|                   0|                   -|https://www.linke...|\n",
      "|      1021|            GE Power|GE Power, part of...|           7|                  NY|                  US|         Schenectady|               12345|        1 River Road|https://www.linke...|\n",
      "|      1025|Hewlett Packard E...|Official LinkedIn...|           7|               Texas|                  US|             Houston|               77389|1701 E Mossy Oaks...|https://www.linke...|\n",
      "|      1028|              Oracle|We’re a cloud tec...|        null|                null|                null|                null|                null|                null|                null|\n",
      "|      null|            security| and cost savings...|        null| attain sustainab...| and become more ...|                null|                null|                null|                null|\n",
      "|      null| and advance scie...| millions of peop...|        null| quickly pivot to...| and connect data...|                null|                null|                null|                null|\n",
      "+----------+--------------------+--------------------+------------+--------------------+--------------------+--------------------+--------------------+--------------------+--------------------+\n",
      "only showing top 10 rows\n",
      "\n"
     ]
    }
   ],
   "source": [
    "companies_schema=StructType([\n",
    "    StructField(\"company_id\", IntegerType(), True), \n",
    "    StructField(\"name\", StringType(), True),\n",
    "    StructField(\"description\", StringType(), True),\n",
    "    StructField(\"company_size\", IntegerType(), True),  \n",
    "    StructField(\"state\", StringType(), True),\n",
    "    StructField(\"country\", StringType(), True),\n",
    "    StructField(\"city\", StringType(), True),\n",
    "    StructField(\"zip_code\", StringType(), True), \n",
    "    StructField(\"address\", StringType(), True),\n",
    "    StructField(\"url\", StringType(), True)\n",
    "])\n",
    "\n",
    "\n",
    "\n",
    "df_companies = spark.read \\\n",
    "    .option(\"header\", \"true\") \\\n",
    "    .schema(companies_schema) \\\n",
    "    .csv(\"./data/linkedin-job-postings/company_details/companies.csv\") \n",
    "\n",
    "\n",
    "df_companies.show(10)"
   ]
  },
  {
   "cell_type": "code",
   "execution_count": 12,
   "metadata": {},
   "outputs": [
    {
     "name": "stdout",
     "output_type": "stream",
     "text": [
      "root\n",
      " |-- company_id: integer (nullable = true)\n",
      " |-- name: string (nullable = true)\n",
      " |-- description: string (nullable = true)\n",
      " |-- company_size: integer (nullable = true)\n",
      " |-- state: string (nullable = true)\n",
      " |-- country: string (nullable = true)\n",
      " |-- city: string (nullable = true)\n",
      " |-- zip_code: string (nullable = true)\n",
      " |-- address: string (nullable = true)\n",
      " |-- url: string (nullable = true)\n",
      "\n"
     ]
    }
   ],
   "source": [
    "df_companies.printSchema()"
   ]
  },
  {
   "cell_type": "code",
   "execution_count": 13,
   "metadata": {},
   "outputs": [
    {
     "name": "stderr",
     "output_type": "stream",
     "text": [
      "                                                                                \r"
     ]
    }
   ],
   "source": [
    "df_companies.repartition(5).write.parquet(\"./data/pq-linkedin-job-postings/pq_companies/\", mode=\"overwrite\")"
   ]
  },
  {
   "cell_type": "markdown",
   "metadata": {},
   "source": [
    "### company_details/company_industries.csv"
   ]
  },
  {
   "cell_type": "code",
   "execution_count": null,
   "metadata": {},
   "outputs": [],
   "source": [
    "company_industry_schema=StructType([\n",
    "    StructField(\"company_id\", IntegerType(), True), \n",
    "    StructField(\"industry\", StringType(), True)\n",
    "])\n",
    "\n",
    "\n"
   ]
  },
  {
   "cell_type": "code",
   "execution_count": 16,
   "metadata": {},
   "outputs": [
    {
     "data": {
      "text/html": [
       "<div>\n",
       "<style scoped>\n",
       "    .dataframe tbody tr th:only-of-type {\n",
       "        vertical-align: middle;\n",
       "    }\n",
       "\n",
       "    .dataframe tbody tr th {\n",
       "        vertical-align: top;\n",
       "    }\n",
       "\n",
       "    .dataframe thead th {\n",
       "        text-align: right;\n",
       "    }\n",
       "</style>\n",
       "<table border=\"1\" class=\"dataframe\">\n",
       "  <thead>\n",
       "    <tr style=\"text-align: right;\">\n",
       "      <th></th>\n",
       "      <th>company_id</th>\n",
       "      <th>industry</th>\n",
       "    </tr>\n",
       "  </thead>\n",
       "  <tbody>\n",
       "    <tr>\n",
       "      <th>0</th>\n",
       "      <td>81149246</td>\n",
       "      <td>Higher Education</td>\n",
       "    </tr>\n",
       "    <tr>\n",
       "      <th>1</th>\n",
       "      <td>10033339</td>\n",
       "      <td>Information Technology &amp; Services</td>\n",
       "    </tr>\n",
       "    <tr>\n",
       "      <th>2</th>\n",
       "      <td>6049228</td>\n",
       "      <td>Accounting</td>\n",
       "    </tr>\n",
       "    <tr>\n",
       "      <th>3</th>\n",
       "      <td>2641066</td>\n",
       "      <td>Electrical &amp; Electronic Manufacturing</td>\n",
       "    </tr>\n",
       "    <tr>\n",
       "      <th>4</th>\n",
       "      <td>96649998</td>\n",
       "      <td>Marketing &amp; Advertising</td>\n",
       "    </tr>\n",
       "  </tbody>\n",
       "</table>\n",
       "</div>"
      ],
      "text/plain": [
       "   company_id                               industry\n",
       "0    81149246                       Higher Education\n",
       "1    10033339      Information Technology & Services\n",
       "2     6049228                             Accounting\n",
       "3     2641066  Electrical & Electronic Manufacturing\n",
       "4    96649998                Marketing & Advertising"
      ]
     },
     "execution_count": 16,
     "metadata": {},
     "output_type": "execute_result"
    }
   ],
   "source": [
    "df_company_industry = pd.read_csv(\"./data/linkedin-job-postings/company_details/company_industries.csv\")\n",
    "df_company_industry.head(5)"
   ]
  },
  {
   "cell_type": "code",
   "execution_count": 17,
   "metadata": {},
   "outputs": [
    {
     "data": {
      "text/html": [
       "<div>\n",
       "<style scoped>\n",
       "    .dataframe tbody tr th:only-of-type {\n",
       "        vertical-align: middle;\n",
       "    }\n",
       "\n",
       "    .dataframe tbody tr th {\n",
       "        vertical-align: top;\n",
       "    }\n",
       "\n",
       "    .dataframe thead th {\n",
       "        text-align: right;\n",
       "    }\n",
       "</style>\n",
       "<table border=\"1\" class=\"dataframe\">\n",
       "  <thead>\n",
       "    <tr style=\"text-align: right;\">\n",
       "      <th></th>\n",
       "      <th>company_id</th>\n",
       "      <th>employee_count</th>\n",
       "      <th>follower_count</th>\n",
       "      <th>time_recorded</th>\n",
       "    </tr>\n",
       "  </thead>\n",
       "  <tbody>\n",
       "    <tr>\n",
       "      <th>0</th>\n",
       "      <td>81149246</td>\n",
       "      <td>6</td>\n",
       "      <td>91</td>\n",
       "      <td>1.692645e+09</td>\n",
       "    </tr>\n",
       "    <tr>\n",
       "      <th>1</th>\n",
       "      <td>10033339</td>\n",
       "      <td>3</td>\n",
       "      <td>187</td>\n",
       "      <td>1.692645e+09</td>\n",
       "    </tr>\n",
       "    <tr>\n",
       "      <th>2</th>\n",
       "      <td>6049228</td>\n",
       "      <td>20</td>\n",
       "      <td>82</td>\n",
       "      <td>1.692645e+09</td>\n",
       "    </tr>\n",
       "    <tr>\n",
       "      <th>3</th>\n",
       "      <td>2641066</td>\n",
       "      <td>45</td>\n",
       "      <td>2336</td>\n",
       "      <td>1.692645e+09</td>\n",
       "    </tr>\n",
       "    <tr>\n",
       "      <th>4</th>\n",
       "      <td>96649998</td>\n",
       "      <td>0</td>\n",
       "      <td>2</td>\n",
       "      <td>1.692645e+09</td>\n",
       "    </tr>\n",
       "  </tbody>\n",
       "</table>\n",
       "</div>"
      ],
      "text/plain": [
       "   company_id  employee_count  follower_count  time_recorded\n",
       "0    81149246               6              91   1.692645e+09\n",
       "1    10033339               3             187   1.692645e+09\n",
       "2     6049228              20              82   1.692645e+09\n",
       "3     2641066              45            2336   1.692645e+09\n",
       "4    96649998               0               2   1.692645e+09"
      ]
     },
     "execution_count": 17,
     "metadata": {},
     "output_type": "execute_result"
    }
   ],
   "source": [
    "df_employee_counts = pd.read_csv(\"./data/linkedin-job-postings/company_details/employee_counts.csv\")\n",
    "df_employee_counts.head(5)"
   ]
  },
  {
   "cell_type": "code",
   "execution_count": 18,
   "metadata": {},
   "outputs": [
    {
     "data": {
      "text/html": [
       "<div>\n",
       "<style scoped>\n",
       "    .dataframe tbody tr th:only-of-type {\n",
       "        vertical-align: middle;\n",
       "    }\n",
       "\n",
       "    .dataframe tbody tr th {\n",
       "        vertical-align: top;\n",
       "    }\n",
       "\n",
       "    .dataframe thead th {\n",
       "        text-align: right;\n",
       "    }\n",
       "</style>\n",
       "<table border=\"1\" class=\"dataframe\">\n",
       "  <thead>\n",
       "    <tr style=\"text-align: right;\">\n",
       "      <th></th>\n",
       "      <th>job_id</th>\n",
       "      <th>inferred</th>\n",
       "      <th>type</th>\n",
       "    </tr>\n",
       "  </thead>\n",
       "  <tbody>\n",
       "    <tr>\n",
       "      <th>0</th>\n",
       "      <td>3690843087</td>\n",
       "      <td>0</td>\n",
       "      <td>Medical insurance</td>\n",
       "    </tr>\n",
       "    <tr>\n",
       "      <th>1</th>\n",
       "      <td>3690843087</td>\n",
       "      <td>0</td>\n",
       "      <td>Dental insurance</td>\n",
       "    </tr>\n",
       "    <tr>\n",
       "      <th>2</th>\n",
       "      <td>3690843087</td>\n",
       "      <td>0</td>\n",
       "      <td>401(k)</td>\n",
       "    </tr>\n",
       "    <tr>\n",
       "      <th>3</th>\n",
       "      <td>3690843087</td>\n",
       "      <td>0</td>\n",
       "      <td>Paid maternity leave</td>\n",
       "    </tr>\n",
       "    <tr>\n",
       "      <th>4</th>\n",
       "      <td>3690843087</td>\n",
       "      <td>0</td>\n",
       "      <td>Disability insurance</td>\n",
       "    </tr>\n",
       "  </tbody>\n",
       "</table>\n",
       "</div>"
      ],
      "text/plain": [
       "       job_id  inferred                  type\n",
       "0  3690843087         0     Medical insurance\n",
       "1  3690843087         0      Dental insurance\n",
       "2  3690843087         0                401(k)\n",
       "3  3690843087         0  Paid maternity leave\n",
       "4  3690843087         0  Disability insurance"
      ]
     },
     "execution_count": 18,
     "metadata": {},
     "output_type": "execute_result"
    }
   ],
   "source": [
    "df_benefits = pd.read_csv(\"./data/linkedin-job-postings/job_details/benefits.csv\")\n",
    "df_benefits.head(5)"
   ]
  },
  {
   "cell_type": "code",
   "execution_count": 20,
   "metadata": {},
   "outputs": [
    {
     "data": {
      "text/html": [
       "<div>\n",
       "<style scoped>\n",
       "    .dataframe tbody tr th:only-of-type {\n",
       "        vertical-align: middle;\n",
       "    }\n",
       "\n",
       "    .dataframe tbody tr th {\n",
       "        vertical-align: top;\n",
       "    }\n",
       "\n",
       "    .dataframe thead th {\n",
       "        text-align: right;\n",
       "    }\n",
       "</style>\n",
       "<table border=\"1\" class=\"dataframe\">\n",
       "  <thead>\n",
       "    <tr style=\"text-align: right;\">\n",
       "      <th></th>\n",
       "      <th>job_id</th>\n",
       "      <th>industry_id</th>\n",
       "    </tr>\n",
       "  </thead>\n",
       "  <tbody>\n",
       "    <tr>\n",
       "      <th>0</th>\n",
       "      <td>3378133231</td>\n",
       "      <td>68</td>\n",
       "    </tr>\n",
       "    <tr>\n",
       "      <th>1</th>\n",
       "      <td>3497509795</td>\n",
       "      <td>96</td>\n",
       "    </tr>\n",
       "    <tr>\n",
       "      <th>2</th>\n",
       "      <td>3690843087</td>\n",
       "      <td>47</td>\n",
       "    </tr>\n",
       "    <tr>\n",
       "      <th>3</th>\n",
       "      <td>3691775263</td>\n",
       "      <td>112</td>\n",
       "    </tr>\n",
       "    <tr>\n",
       "      <th>4</th>\n",
       "      <td>3691779379</td>\n",
       "      <td>80</td>\n",
       "    </tr>\n",
       "  </tbody>\n",
       "</table>\n",
       "</div>"
      ],
      "text/plain": [
       "       job_id  industry_id\n",
       "0  3378133231           68\n",
       "1  3497509795           96\n",
       "2  3690843087           47\n",
       "3  3691775263          112\n",
       "4  3691779379           80"
      ]
     },
     "execution_count": 20,
     "metadata": {},
     "output_type": "execute_result"
    }
   ],
   "source": [
    "df_job_industries = pd.read_csv(\"./data/linkedin-job-postings/job_details/job_industries.csv\")\n",
    "df_job_industries.head(5)"
   ]
  },
  {
   "cell_type": "code",
   "execution_count": 21,
   "metadata": {},
   "outputs": [
    {
     "data": {
      "text/html": [
       "<div>\n",
       "<style scoped>\n",
       "    .dataframe tbody tr th:only-of-type {\n",
       "        vertical-align: middle;\n",
       "    }\n",
       "\n",
       "    .dataframe tbody tr th {\n",
       "        vertical-align: top;\n",
       "    }\n",
       "\n",
       "    .dataframe thead th {\n",
       "        text-align: right;\n",
       "    }\n",
       "</style>\n",
       "<table border=\"1\" class=\"dataframe\">\n",
       "  <thead>\n",
       "    <tr style=\"text-align: right;\">\n",
       "      <th></th>\n",
       "      <th>job_id</th>\n",
       "      <th>skill_abr</th>\n",
       "    </tr>\n",
       "  </thead>\n",
       "  <tbody>\n",
       "    <tr>\n",
       "      <th>0</th>\n",
       "      <td>3690843087</td>\n",
       "      <td>ACCT</td>\n",
       "    </tr>\n",
       "    <tr>\n",
       "      <th>1</th>\n",
       "      <td>3690843087</td>\n",
       "      <td>FIN</td>\n",
       "    </tr>\n",
       "    <tr>\n",
       "      <th>2</th>\n",
       "      <td>3691763971</td>\n",
       "      <td>MGMT</td>\n",
       "    </tr>\n",
       "    <tr>\n",
       "      <th>3</th>\n",
       "      <td>3691763971</td>\n",
       "      <td>MNFC</td>\n",
       "    </tr>\n",
       "    <tr>\n",
       "      <th>4</th>\n",
       "      <td>3691775263</td>\n",
       "      <td>MGMT</td>\n",
       "    </tr>\n",
       "  </tbody>\n",
       "</table>\n",
       "</div>"
      ],
      "text/plain": [
       "       job_id skill_abr\n",
       "0  3690843087      ACCT\n",
       "1  3690843087       FIN\n",
       "2  3691763971      MGMT\n",
       "3  3691763971      MNFC\n",
       "4  3691775263      MGMT"
      ]
     },
     "execution_count": 21,
     "metadata": {},
     "output_type": "execute_result"
    }
   ],
   "source": [
    "df_job_skills = pd.read_csv(\"./data/linkedin-job-postings/job_details/job_skills.csv\")\n",
    "df_job_skills.head(5)"
   ]
  },
  {
   "cell_type": "code",
   "execution_count": 22,
   "metadata": {},
   "outputs": [
    {
     "data": {
      "text/html": [
       "<div>\n",
       "<style scoped>\n",
       "    .dataframe tbody tr th:only-of-type {\n",
       "        vertical-align: middle;\n",
       "    }\n",
       "\n",
       "    .dataframe tbody tr th {\n",
       "        vertical-align: top;\n",
       "    }\n",
       "\n",
       "    .dataframe thead th {\n",
       "        text-align: right;\n",
       "    }\n",
       "</style>\n",
       "<table border=\"1\" class=\"dataframe\">\n",
       "  <thead>\n",
       "    <tr style=\"text-align: right;\">\n",
       "      <th></th>\n",
       "      <th>salary_id</th>\n",
       "      <th>job_id</th>\n",
       "      <th>max_salary</th>\n",
       "      <th>med_salary</th>\n",
       "      <th>min_salary</th>\n",
       "      <th>pay_period</th>\n",
       "      <th>currency</th>\n",
       "      <th>compensation_type</th>\n",
       "    </tr>\n",
       "  </thead>\n",
       "  <tbody>\n",
       "    <tr>\n",
       "      <th>0</th>\n",
       "      <td>1</td>\n",
       "      <td>3378133231</td>\n",
       "      <td>30.0</td>\n",
       "      <td>NaN</td>\n",
       "      <td>22.0</td>\n",
       "      <td>HOURLY</td>\n",
       "      <td>USD</td>\n",
       "      <td>BASE_SALARY</td>\n",
       "    </tr>\n",
       "    <tr>\n",
       "      <th>1</th>\n",
       "      <td>2</td>\n",
       "      <td>3690843087</td>\n",
       "      <td>65000.0</td>\n",
       "      <td>NaN</td>\n",
       "      <td>55000.0</td>\n",
       "      <td>YEARLY</td>\n",
       "      <td>USD</td>\n",
       "      <td>BASE_SALARY</td>\n",
       "    </tr>\n",
       "    <tr>\n",
       "      <th>2</th>\n",
       "      <td>3</td>\n",
       "      <td>3691794313</td>\n",
       "      <td>22.0</td>\n",
       "      <td>NaN</td>\n",
       "      <td>19.0</td>\n",
       "      <td>HOURLY</td>\n",
       "      <td>USD</td>\n",
       "      <td>BASE_SALARY</td>\n",
       "    </tr>\n",
       "    <tr>\n",
       "      <th>3</th>\n",
       "      <td>4</td>\n",
       "      <td>3691795389</td>\n",
       "      <td>70000.0</td>\n",
       "      <td>NaN</td>\n",
       "      <td>68000.0</td>\n",
       "      <td>YEARLY</td>\n",
       "      <td>USD</td>\n",
       "      <td>BASE_SALARY</td>\n",
       "    </tr>\n",
       "    <tr>\n",
       "      <th>4</th>\n",
       "      <td>5</td>\n",
       "      <td>3691797089</td>\n",
       "      <td>22.0</td>\n",
       "      <td>NaN</td>\n",
       "      <td>18.0</td>\n",
       "      <td>HOURLY</td>\n",
       "      <td>USD</td>\n",
       "      <td>BASE_SALARY</td>\n",
       "    </tr>\n",
       "  </tbody>\n",
       "</table>\n",
       "</div>"
      ],
      "text/plain": [
       "   salary_id      job_id  max_salary  med_salary  min_salary pay_period  \\\n",
       "0          1  3378133231        30.0         NaN        22.0     HOURLY   \n",
       "1          2  3690843087     65000.0         NaN     55000.0     YEARLY   \n",
       "2          3  3691794313        22.0         NaN        19.0     HOURLY   \n",
       "3          4  3691795389     70000.0         NaN     68000.0     YEARLY   \n",
       "4          5  3691797089        22.0         NaN        18.0     HOURLY   \n",
       "\n",
       "  currency compensation_type  \n",
       "0      USD       BASE_SALARY  \n",
       "1      USD       BASE_SALARY  \n",
       "2      USD       BASE_SALARY  \n",
       "3      USD       BASE_SALARY  \n",
       "4      USD       BASE_SALARY  "
      ]
     },
     "execution_count": 22,
     "metadata": {},
     "output_type": "execute_result"
    }
   ],
   "source": [
    "df_salaries = pd.read_csv(\"./data/linkedin-job-postings/job_details/salaries.csv\")\n",
    "df_salaries.head(5)"
   ]
  },
  {
   "cell_type": "code",
   "execution_count": 23,
   "metadata": {},
   "outputs": [
    {
     "data": {
      "text/html": [
       "<div>\n",
       "<style scoped>\n",
       "    .dataframe tbody tr th:only-of-type {\n",
       "        vertical-align: middle;\n",
       "    }\n",
       "\n",
       "    .dataframe tbody tr th {\n",
       "        vertical-align: top;\n",
       "    }\n",
       "\n",
       "    .dataframe thead th {\n",
       "        text-align: right;\n",
       "    }\n",
       "</style>\n",
       "<table border=\"1\" class=\"dataframe\">\n",
       "  <thead>\n",
       "    <tr style=\"text-align: right;\">\n",
       "      <th></th>\n",
       "      <th>industry_id</th>\n",
       "      <th>industry_name</th>\n",
       "    </tr>\n",
       "  </thead>\n",
       "  <tbody>\n",
       "    <tr>\n",
       "      <th>0</th>\n",
       "      <td>1</td>\n",
       "      <td>Defense and Space Manufacturing</td>\n",
       "    </tr>\n",
       "    <tr>\n",
       "      <th>1</th>\n",
       "      <td>3</td>\n",
       "      <td>Computer Hardware Manufacturing</td>\n",
       "    </tr>\n",
       "    <tr>\n",
       "      <th>2</th>\n",
       "      <td>4</td>\n",
       "      <td>Software Development</td>\n",
       "    </tr>\n",
       "    <tr>\n",
       "      <th>3</th>\n",
       "      <td>5</td>\n",
       "      <td>Computer Networking Products</td>\n",
       "    </tr>\n",
       "    <tr>\n",
       "      <th>4</th>\n",
       "      <td>6</td>\n",
       "      <td>Technology, Information and Internet</td>\n",
       "    </tr>\n",
       "  </tbody>\n",
       "</table>\n",
       "</div>"
      ],
      "text/plain": [
       "   industry_id                         industry_name\n",
       "0            1       Defense and Space Manufacturing\n",
       "1            3       Computer Hardware Manufacturing\n",
       "2            4                  Software Development\n",
       "3            5          Computer Networking Products\n",
       "4            6  Technology, Information and Internet"
      ]
     },
     "execution_count": 23,
     "metadata": {},
     "output_type": "execute_result"
    }
   ],
   "source": [
    "df_industries = pd.read_csv(\"./data/linkedin-job-postings/maps/industries.csv\")\n",
    "df_industries.head(5)"
   ]
  },
  {
   "cell_type": "code",
   "execution_count": 24,
   "metadata": {},
   "outputs": [
    {
     "data": {
      "text/html": [
       "<div>\n",
       "<style scoped>\n",
       "    .dataframe tbody tr th:only-of-type {\n",
       "        vertical-align: middle;\n",
       "    }\n",
       "\n",
       "    .dataframe tbody tr th {\n",
       "        vertical-align: top;\n",
       "    }\n",
       "\n",
       "    .dataframe thead th {\n",
       "        text-align: right;\n",
       "    }\n",
       "</style>\n",
       "<table border=\"1\" class=\"dataframe\">\n",
       "  <thead>\n",
       "    <tr style=\"text-align: right;\">\n",
       "      <th></th>\n",
       "      <th>skill_abr</th>\n",
       "      <th>skill_name</th>\n",
       "    </tr>\n",
       "  </thead>\n",
       "  <tbody>\n",
       "    <tr>\n",
       "      <th>0</th>\n",
       "      <td>PRCH</td>\n",
       "      <td>Purchasing</td>\n",
       "    </tr>\n",
       "    <tr>\n",
       "      <th>1</th>\n",
       "      <td>SUPL</td>\n",
       "      <td>Supply Chain</td>\n",
       "    </tr>\n",
       "    <tr>\n",
       "      <th>2</th>\n",
       "      <td>PR</td>\n",
       "      <td>Public Relations</td>\n",
       "    </tr>\n",
       "    <tr>\n",
       "      <th>3</th>\n",
       "      <td>SCI</td>\n",
       "      <td>Science</td>\n",
       "    </tr>\n",
       "    <tr>\n",
       "      <th>4</th>\n",
       "      <td>STRA</td>\n",
       "      <td>Strategy/Planning</td>\n",
       "    </tr>\n",
       "  </tbody>\n",
       "</table>\n",
       "</div>"
      ],
      "text/plain": [
       "  skill_abr         skill_name\n",
       "0      PRCH         Purchasing\n",
       "1      SUPL       Supply Chain\n",
       "2        PR   Public Relations\n",
       "3       SCI            Science\n",
       "4      STRA  Strategy/Planning"
      ]
     },
     "execution_count": 24,
     "metadata": {},
     "output_type": "execute_result"
    }
   ],
   "source": [
    "df_skills = pd.read_csv(\"./data/linkedin-job-postings/maps/skills.csv\")\n",
    "df_skills.head(5)"
   ]
  },
  {
   "cell_type": "code",
   "execution_count": 32,
   "metadata": {},
   "outputs": [],
   "source": [
    "spark.stop()"
   ]
  },
  {
   "cell_type": "code",
   "execution_count": null,
   "metadata": {},
   "outputs": [],
   "source": []
  }
 ],
 "metadata": {
  "kernelspec": {
   "display_name": "Python 3 (ipykernel)",
   "language": "python",
   "name": "python3"
  },
  "language_info": {
   "codemirror_mode": {
    "name": "ipython",
    "version": 3
   },
   "file_extension": ".py",
   "mimetype": "text/x-python",
   "name": "python",
   "nbconvert_exporter": "python",
   "pygments_lexer": "ipython3",
   "version": "3.11.5"
  }
 },
 "nbformat": 4,
 "nbformat_minor": 2
}
